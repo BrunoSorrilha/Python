{
  "nbformat": 4,
  "nbformat_minor": 0,
  "metadata": {
    "kernelspec": {
      "display_name": "Python 3",
      "language": "python",
      "name": "python3"
    },
    "language_info": {
      "codemirror_mode": {
        "name": "ipython",
        "version": 3
      },
      "file_extension": ".py",
      "mimetype": "text/x-python",
      "name": "python",
      "nbconvert_exporter": "python",
      "pygments_lexer": "ipython3",
      "version": "3.8.8"
    },
    "colab": {
      "provenance": [],
      "include_colab_link": true
    }
  },
  "cells": [
    {
      "cell_type": "markdown",
      "metadata": {
        "id": "view-in-github",
        "colab_type": "text"
      },
      "source": [
        "<a href=\"https://colab.research.google.com/github/BrunoSorrilha/Python/blob/main/6_ExerciciosPraticos_conte%C3%BAdo_at%C3%A9_listas_tuplas_dicionarios_.ipynb\" target=\"_parent\"><img src=\"https://colab.research.google.com/assets/colab-badge.svg\" alt=\"Open In Colab\"/></a>"
      ]
    },
    {
      "cell_type": "markdown",
      "metadata": {
        "id": "otAALMRAgVFs"
      },
      "source": [
        "# Exercícios, insira os valores abaixo em variáveis.\n",
        "\n",
        "Nome:\n",
        "\n",
        "Turma: Tarde ou Noite\n",
        "\n",
        "Curso que faz na ETEC:\n",
        "\n",
        "Período do Curso:\n",
        "\n"
      ]
    },
    {
      "cell_type": "markdown",
      "metadata": {
        "id": "mtO7KYI4gVGN"
      },
      "source": [
        "### Exercícios com todos os conteúdos aplicados até o momento."
      ]
    },
    {
      "cell_type": "code",
      "metadata": {
        "id": "sNDVkTvxqFeG"
      },
      "source": [
        "# Exercício 1 inserir os seus dados acima em variáveis\n",
        "#Exemplo\n",
        "nome = \"Bruno Sorrilha\"\n",
        "Turma = \"1C\"\n",
        "Curso = \"Ti\"\n",
        "Periodo = \"Manhã\"\n",
        "#continue.....\n"
      ],
      "execution_count": null,
      "outputs": []
    },
    {
      "cell_type": "code",
      "metadata": {
        "id": "9ghrfEWJxiTC",
        "colab": {
          "base_uri": "https://localhost:8080/",
          "height": 35
        },
        "outputId": "50ee1b4a-6012-4900-d94e-94036dad1c82"
      },
      "source": [
        "# Exercício 2 -Apos inserir dados acima usando o slicing (exemplo no notebook de manipulação de Strings), imprima na tela apenas seu sobrenome\n",
        "nome[6:]"
      ],
      "execution_count": null,
      "outputs": [
        {
          "output_type": "execute_result",
          "data": {
            "text/plain": [
              "'Sorrilha'"
            ],
            "application/vnd.google.colaboratory.intrinsic+json": {
              "type": "string"
            }
          },
          "metadata": {},
          "execution_count": 2
        }
      ]
    },
    {
      "cell_type": "code",
      "metadata": {
        "id": "pw8rY0r9yU9P",
        "colab": {
          "base_uri": "https://localhost:8080/"
        },
        "outputId": "a51db742-1e74-4a9e-86f8-3c4383607beb"
      },
      "source": [
        "# Exercício 3 -  imprima seu nome de trás pra frente\n",
        "nome_invertido = nome[::-1]\n",
        "print(nome_invertido)"
      ],
      "execution_count": null,
      "outputs": [
        {
          "output_type": "stream",
          "name": "stdout",
          "text": [
            "ahlirroS onurB\n"
          ]
        }
      ]
    },
    {
      "cell_type": "code",
      "metadata": {
        "id": "Pa51fT2Pyd-P",
        "colab": {
          "base_uri": "https://localhost:8080/"
        },
        "outputId": "a96cf7b7-fd5c-4718-92db-460b0b92b957"
      },
      "source": [
        "# Exercício 4 - pegue a frase abaixo, aplique o split para fazer uma quebra toda vez que encontrar uma \",\"\n",
        "frase = \"Python é a linguagem ideal para o primeiro contato com programação, além da sua sintaxe simples e muito poderosa, Python tem diversas aplicações como: desenvolvimento web, análise de dados, inteligência artificial e automatização de tarefas, neste curso você aprenderá a lógica de programação para conquistar fluência na linguagem, a comunidade Python é a que mais cresce, assim como sua demanda de profissionais no mercado.\"\n",
        "palavras = frase.split(\",\")\n",
        "\n",
        "for palavra in palavras:\n",
        "    print(palavra.strip())"
      ],
      "execution_count": null,
      "outputs": [
        {
          "output_type": "stream",
          "name": "stdout",
          "text": [
            "Python é a linguagem ideal para o primeiro contato com programação\n",
            "além da sua sintaxe simples e muito poderosa\n",
            "Python tem diversas aplicações como: desenvolvimento web\n",
            "análise de dados\n",
            "inteligência artificial e automatização de tarefas\n",
            "neste curso você aprenderá a lógica de programação para conquistar fluência na linguagem\n",
            "a comunidade Python é a que mais cresce\n",
            "assim como sua demanda de profissionais no mercado.\n"
          ]
        }
      ]
    },
    {
      "cell_type": "code",
      "metadata": {
        "id": "3zXkJzvOgVGQ",
        "colab": {
          "base_uri": "https://localhost:8080/"
        },
        "outputId": "b270987d-66ba-44d1-a31f-134a06fe08ae"
      },
      "source": [
        "# Exercício 5 -Imprima na tela os números de 1 a 10. Use uma lista para armazenar os números.\n",
        "numeros = []\n",
        "for i in range(1, 11):\n",
        "    numeros.append(i)\n",
        "    print(i)"
      ],
      "execution_count": null,
      "outputs": [
        {
          "output_type": "stream",
          "name": "stdout",
          "text": [
            "1\n",
            "2\n",
            "3\n",
            "4\n",
            "5\n",
            "6\n",
            "7\n",
            "8\n",
            "9\n",
            "10\n"
          ]
        }
      ]
    },
    {
      "cell_type": "code",
      "metadata": {
        "id": "sLiKO51ogVGU",
        "colab": {
          "base_uri": "https://localhost:8080/"
        },
        "outputId": "036ba001-4733-416b-af46-99f1855c3714"
      },
      "source": [
        "# Exercício 6 - Crie uma lista de 5 objetos e imprima na tela\n",
        "objeto = [\"tapete\",\"mesa\",\"chão\", 1, 2]\n",
        "print(objeto)"
      ],
      "execution_count": null,
      "outputs": [
        {
          "output_type": "stream",
          "name": "stdout",
          "text": [
            "['tapete', 'mesa', 'chão', 1, 2]\n"
          ]
        }
      ]
    },
    {
      "cell_type": "code",
      "metadata": {
        "id": "4Udf3Y1SgVGW",
        "colab": {
          "base_uri": "https://localhost:8080/"
        },
        "outputId": "ffeff7ec-a38e-43bb-fe63-43d0dd1378b4"
      },
      "source": [
        "# Exercício 7 - - Crie duas strings e concatene as duas em uma terceira string\n",
        "pão = [\"pao\"]\n",
        "queijo = [\"queijo\"]\n",
        "pão_de_queijo = pão + queijo\n",
        "print(pão_de_queijo)"
      ],
      "execution_count": null,
      "outputs": [
        {
          "output_type": "stream",
          "name": "stdout",
          "text": [
            "['pao', 'queijo']\n"
          ]
        }
      ]
    },
    {
      "cell_type": "code",
      "metadata": {
        "id": "eibOlpxBgVGZ",
        "colab": {
          "base_uri": "https://localhost:8080/"
        },
        "outputId": "14932948-df89-4d44-c4e8-056f077bc598"
      },
      "source": [
        "# Exercício 8 - Crie uma tupla com os seguintes elementos: 1, 2, 2, 3, 4, 4, 4, 5 e depois utilize a função count do\n",
        "# objeto tupla para verificar quantas vezes o número 4 aparece na tupla\n",
        "numtupla = ['1', '2', '2', '3', '4', '4', '4', '5']\n",
        "numtupla.count('4')"
      ],
      "execution_count": null,
      "outputs": [
        {
          "output_type": "execute_result",
          "data": {
            "text/plain": [
              "3"
            ]
          },
          "metadata": {},
          "execution_count": 8
        }
      ]
    },
    {
      "cell_type": "code",
      "metadata": {
        "id": "N68z5JS9gVGe",
        "colab": {
          "base_uri": "https://localhost:8080/"
        },
        "outputId": "e3451bd6-5a9d-46b9-917e-5979eac21a93"
      },
      "source": [
        "# Exercício 9 - Crie um dicionário vazio e imprima na tela\n",
        "Dickionario = {\n",
        "}\n",
        "print(Dickionario)"
      ],
      "execution_count": null,
      "outputs": [
        {
          "output_type": "stream",
          "name": "stdout",
          "text": [
            "{}\n"
          ]
        }
      ]
    },
    {
      "cell_type": "code",
      "metadata": {
        "id": "BNR0-SW-gVGg",
        "colab": {
          "base_uri": "https://localhost:8080/"
        },
        "outputId": "eff75df3-de52-4ef5-d73a-4150669a11bb"
      },
      "source": [
        "# Exercício 10 - Crie um dicionário com 3 chaves e 3 valores e imprima na tela\n",
        "dildonario = {\n",
        "    'Nome': 'trembolona',\n",
        "    'comida': 'azeitona',\n",
        "    'bom dia e compania': '90028922'\n",
        "}\n",
        "print(dildonario)"
      ],
      "execution_count": null,
      "outputs": [
        {
          "output_type": "stream",
          "name": "stdout",
          "text": [
            "{'Nome': 'trembolona', 'comida': 'azeitona', 'bom dia e compania': '90028922'}\n"
          ]
        }
      ]
    },
    {
      "cell_type": "code",
      "metadata": {
        "id": "gXIHe2YegVGj",
        "colab": {
          "base_uri": "https://localhost:8080/"
        },
        "outputId": "b0d9d6f2-4362-47f9-e2e6-b03306a74d7b"
      },
      "source": [
        "# Exercício 11 - Adicione mais um elemento ao dicionário criado no exercício anterior e imprima na tela\n",
        "dildonario[\"aaaaaa\"] = \"letra\"\n",
        "print(dildonario)"
      ],
      "execution_count": null,
      "outputs": [
        {
          "output_type": "stream",
          "name": "stdout",
          "text": [
            "{'Nome': 'trembolona', 'comida': 'azeitona', 'bom dia e compania': '90028922', 'aaaaaa': 'letra'}\n"
          ]
        }
      ]
    },
    {
      "cell_type": "code",
      "metadata": {
        "id": "4BgEJNIegVGn",
        "colab": {
          "base_uri": "https://localhost:8080/"
        },
        "outputId": "90a676a2-5da1-4b14-8a94-be26082c7de7"
      },
      "source": [
        "# Exercício 12 - Crie um dicionário com 3 chaves e 3 valores. Um dos valores deve ser uma lista de 2 elementos numéricos.\n",
        "# Imprima o dicionário na tela.\n",
        "dicioanario = {\n",
        "    'Nomeeee': 'trembolonaaaa',\n",
        "    'comidaaaa': 'azeitonaaaa',\n",
        "    'bom dia e compania': [9002, 8922]\n",
        "}\n",
        "print(dildonario)"
      ],
      "execution_count": null,
      "outputs": [
        {
          "output_type": "stream",
          "name": "stdout",
          "text": [
            "{'Nome': 'trembolona', 'comida': 'azeitona', 'bom dia e compania': '90028922', 'aaaaaa': 'letra'}\n"
          ]
        }
      ]
    },
    {
      "cell_type": "code",
      "metadata": {
        "id": "5z1toDrtgVGp",
        "colab": {
          "base_uri": "https://localhost:8080/"
        },
        "outputId": "4112f239-363b-4a0b-eac1-849e9f27449d"
      },
      "source": [
        "# Exercício 13 - Crie uma lista de 4 elementos. O primeiro elemento deve ser uma string,\n",
        "# o segundo uma tupla de 2 elementos, o terceiro um dcionário com 2 chaves e 2 valores e\n",
        "# o quarto elemento um valor do tipo float.\n",
        "# Imprima a lista na tela.\n",
        "frederico = [\"string\", ('tupla1', 'tupla2'),{'Nome': '1','comida': '2',},3.14]\n",
        "print(frederico)"
      ],
      "execution_count": null,
      "outputs": [
        {
          "output_type": "stream",
          "name": "stdout",
          "text": [
            "['string', ('tupla1', 'tupla2'), {'Nome': '1', 'comida': '2'}, 3.14]\n"
          ]
        }
      ]
    },
    {
      "cell_type": "code",
      "metadata": {
        "id": "OH0hchIXgVGw",
        "colab": {
          "base_uri": "https://localhost:8080/"
        },
        "outputId": "d01db79e-efab-4883-cd2c-b5fff67fad12"
      },
      "source": [
        "# Exercício 14 - Considere a string abaixo. Imprima na tela apenas os caracteres da posição 1 a 18.\n",
        "frase2 = 'Cientista de Dados é o profissional mais sexy do século XXI'\n",
        "substring = frase2[0:19]\n",
        "print(substring)"
      ],
      "execution_count": null,
      "outputs": [
        {
          "output_type": "stream",
          "name": "stdout",
          "text": [
            "Cientista de Dados \n"
          ]
        }
      ]
    },
    {
      "cell_type": "markdown",
      "metadata": {
        "id": "XivMVqDbg8Jm"
      },
      "source": [
        "## APÓS TERMINAR OS EXERCÍCIOS COMPARTILHAR LINK COMIGO: profcintiapinho@gmail.com\n"
      ]
    },
    {
      "cell_type": "markdown",
      "metadata": {
        "id": "jKsgA0T3gVGy"
      },
      "source": [
        "# Fim"
      ]
    }
  ]
}