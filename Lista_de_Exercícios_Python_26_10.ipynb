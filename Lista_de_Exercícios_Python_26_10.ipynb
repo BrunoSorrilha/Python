{
  "nbformat": 4,
  "nbformat_minor": 0,
  "metadata": {
    "colab": {
      "provenance": [],
      "include_colab_link": true
    },
    "kernelspec": {
      "name": "python3",
      "display_name": "Python 3"
    },
    "language_info": {
      "name": "python"
    }
  },
  "cells": [
    {
      "cell_type": "markdown",
      "metadata": {
        "id": "view-in-github",
        "colab_type": "text"
      },
      "source": [
        "<a href=\"https://colab.research.google.com/github/BrunoSorrilha/Python/blob/main/Lista_de_Exerc%C3%ADcios_Python_26_10.ipynb\" target=\"_parent\"><img src=\"https://colab.research.google.com/assets/colab-badge.svg\" alt=\"Open In Colab\"/></a>"
      ]
    },
    {
      "cell_type": "markdown",
      "source": [
        "***LISTA DE EXERCÍCIOS DO DIA 25/10/2023***"
      ],
      "metadata": {
        "id": "JZkbAcr2MqLY"
      }
    },
    {
      "cell_type": "markdown",
      "source": [
        "Aluno: Bruno Sorrilha    \n",
        "Série: 1ºC (Turma A)"
      ],
      "metadata": {
        "id": "OtRQJ45JOllG"
      }
    },
    {
      "cell_type": "markdown",
      "source": [
        "1.Faça um algoritmo que escreva na tela os números de um número inicial a um número final. Os números inicial e final devem ser informados pelo usuário;"
      ],
      "metadata": {
        "id": "d5yMIDBXMt0g"
      }
    },
    {
      "cell_type": "code",
      "source": [
        "numero_inicial = int(input(\"Digite o número inicial: \"))\n",
        "numero_final = int(input(\"Digite o número final: \"))\n",
        "\n",
        "if numero_inicial <= numero_final:\n",
        "    for numero in range(numero_inicial, numero_final + 1):\n",
        "        print(numero)\n",
        "else:\n",
        "    print(\"O número inicial deve ser menor ou igual ao número final.\")\n"
      ],
      "metadata": {
        "colab": {
          "base_uri": "https://localhost:8080/"
        },
        "id": "NEdEOUWCOOsP",
        "outputId": "54748c18-2385-4f17-ae89-0af3cc8a4a9a"
      },
      "execution_count": 1,
      "outputs": [
        {
          "output_type": "stream",
          "name": "stdout",
          "text": [
            "Digite o número inicial: 69\n",
            "Digite o número final: 24\n",
            "O número inicial deve ser menor ou igual ao número final.\n"
          ]
        }
      ]
    },
    {
      "cell_type": "markdown",
      "source": [
        "2.Escrever um algoritmo que imprima a tabuada de um número informado pelo usuário;\n",
        "\n",
        "Exemplo: 4\n",
        "\n",
        "4X1=4\n",
        "4X2=8\n",
        "4X3=12\n",
        "4X4 = 16\n",
        ".\n",
        ".\n",
        "."
      ],
      "metadata": {
        "id": "eLEVrcudNssO"
      }
    },
    {
      "cell_type": "code",
      "source": [
        "numero = int(input(\"Digite o número para a tabuada: \"))\n",
        "\n",
        "for i in range(1, 11):\n",
        "    resultado = numero * i\n",
        "    print(f\"{numero} x {i} = {resultado}\")\n"
      ],
      "metadata": {
        "colab": {
          "base_uri": "https://localhost:8080/"
        },
        "id": "Szdn3mtHON6-",
        "outputId": "8405f975-b25e-4e99-8256-9612e141fc01"
      },
      "execution_count": 2,
      "outputs": [
        {
          "output_type": "stream",
          "name": "stdout",
          "text": [
            "Digite o número para a tabuada: 10\n",
            "10 x 1 = 10\n",
            "10 x 2 = 20\n",
            "10 x 3 = 30\n",
            "10 x 4 = 40\n",
            "10 x 5 = 50\n",
            "10 x 6 = 60\n",
            "10 x 7 = 70\n",
            "10 x 8 = 80\n",
            "10 x 9 = 90\n",
            "10 x 10 = 100\n"
          ]
        }
      ]
    },
    {
      "cell_type": "markdown",
      "source": [
        "3.Escrever um algoritmo que gera e escreve os números ímpares entre 100 e 200;"
      ],
      "metadata": {
        "id": "-2IqEYufNxg-"
      }
    },
    {
      "cell_type": "code",
      "source": [
        "for numero in range(101, 200, 2):\n",
        "    print(numero)\n"
      ],
      "metadata": {
        "colab": {
          "base_uri": "https://localhost:8080/"
        },
        "id": "tfJ3pSy1ONNO",
        "outputId": "b67a457b-ea9f-4efb-a4b5-88a67407c0c1"
      },
      "execution_count": 3,
      "outputs": [
        {
          "output_type": "stream",
          "name": "stdout",
          "text": [
            "101\n",
            "103\n",
            "105\n",
            "107\n",
            "109\n",
            "111\n",
            "113\n",
            "115\n",
            "117\n",
            "119\n",
            "121\n",
            "123\n",
            "125\n",
            "127\n",
            "129\n",
            "131\n",
            "133\n",
            "135\n",
            "137\n",
            "139\n",
            "141\n",
            "143\n",
            "145\n",
            "147\n",
            "149\n",
            "151\n",
            "153\n",
            "155\n",
            "157\n",
            "159\n",
            "161\n",
            "163\n",
            "165\n",
            "167\n",
            "169\n",
            "171\n",
            "173\n",
            "175\n",
            "177\n",
            "179\n",
            "181\n",
            "183\n",
            "185\n",
            "187\n",
            "189\n",
            "191\n",
            "193\n",
            "195\n",
            "197\n",
            "199\n"
          ]
        }
      ]
    },
    {
      "cell_type": "markdown",
      "source": [
        "4.Faça um programa que solicite cod da conta(exemplo: 122345) e senha(exemplo: 1234), o programa deve verificar o usuário e senha e tentar até três vezes para receber a senha correta, caso contrario o cartão é cancelado se digitar errado 3 vezes."
      ],
      "metadata": {
        "id": "3n18UZouN3SB"
      }
    },
    {
      "cell_type": "code",
      "source": [
        "codigo_da_conta_correta = \"333122345\"\n",
        "senha_correta = \"1234\"\n",
        "tentativas = 3\n",
        "\n",
        "while tentativas > 0:\n",
        "    codigo_da_conta = input(\"Digite o código da conta: \")\n",
        "    senha = input(\"Digite a senha: \")\n",
        "\n",
        "    if codigo_da_conta == codigo_da_conta_correta and senha == senha_correta:\n",
        "        print(\"Acesso concedido. Bem-vindo à sua conta.\")\n",
        "        break\n",
        "    else:\n",
        "        print(\"Código da conta ou senha incorretos. Tente novamente.\")\n",
        "        tentativas -= 1\n",
        "\n",
        "if tentativas == 0:\n",
        "    print(\"Cartão cancelado devido a múltiplas tentativas incorretas.\")\n"
      ],
      "metadata": {
        "colab": {
          "base_uri": "https://localhost:8080/"
        },
        "id": "lpSK5C99OMr_",
        "outputId": "12180dcd-273a-4b09-a957-907affdb73a6"
      },
      "execution_count": 5,
      "outputs": [
        {
          "output_type": "stream",
          "name": "stdout",
          "text": [
            "Digite o código da conta: 333122345\n",
            "Digite a senha: 12\n",
            "Código da conta ou senha incorretos. Tente novamente.\n",
            "Digite o código da conta: 13\n",
            "Digite a senha: 1234\n",
            "Código da conta ou senha incorretos. Tente novamente.\n",
            "Digite o código da conta: 333122345\n",
            "Digite a senha: 1234\n",
            "Acesso concedido. Bem-vindo à sua conta.\n"
          ]
        }
      ]
    },
    {
      "cell_type": "markdown",
      "source": [
        "5.Depois do Código anterior, caso o usuário digite o usuário e senha corretos o programa deve da a oportunidade do usuario escolher a operação a ser feita: Saque, depósito ou ver saldo,\n",
        "caso escolha saque ==> subtraia o valor do saque do seu saldo,\n",
        "caso escolha depósito ==> some o valor do depósito ao seu saldo,\n",
        "caso escolha saldo ==> mostre o saldo.\n",
        "caso escolha sair ==> sai do programa"
      ],
      "metadata": {
        "id": "qVgltV7DN_cO"
      }
    },
    {
      "cell_type": "code",
      "source": [
        "codigo_da_conta_correta = \"122345\"\n",
        "senha_correta = \"1234\"\n",
        "saldo = 2120.0\n",
        "tentativas = 3\n",
        "\n",
        "while tentativas > 0:\n",
        "    codigo_da_conta = input(\"Digite o código da conta: \")\n",
        "    senha = input(\"Digite a senha: \")\n",
        "\n",
        "    if codigo_da_conta == codigo_da_conta_correta and senha == senha_correta:\n",
        "        print(\"Acesso concedido. Bem-vindo à sua conta.\")\n",
        "        while True:\n",
        "            print(\"\\nOpções:\")\n",
        "            print(\"1. Saque\")\n",
        "            print(\"2. Depósito\")\n",
        "            print(\"3. Ver saldo\")\n",
        "            print(\"4. Sair\")\n",
        "            opcao = input(\"Escolha uma opção (1/2/3/4): \")\n",
        "\n",
        "            if opcao == \"1\":\n",
        "                valor_saque = float(input(\"Digite o valor do saque: \"))\n",
        "                if valor_saque > saldo:\n",
        "                    print(\"Saldo insuficiente. Operação não realizada.\")\n",
        "                else:\n",
        "                    saldo -= valor_saque\n",
        "                    print(f\"Saque de R${valor_saque} realizado com sucesso.\")\n",
        "            elif opcao == \"2\":\n",
        "                valor_deposito = float(input(\"Digite o valor do depósito: \"))\n",
        "                saldo += valor_deposito\n",
        "                print(f\"Depósito de R${valor_deposito} realizado com sucesso.\")\n",
        "            elif opcao == \"3\":\n",
        "                print(f\"Saldo atual: R${saldo}\")\n",
        "            elif opcao == \"4\":\n",
        "                print(\"Obrigado por usar nosso serviço. Volte sempre!\")\n",
        "                break\n",
        "            else:\n",
        "                print(\"Opção inválida. Tente novamente.\")\n",
        "    else:\n",
        "        print(\"Código da conta ou senha incorretos. Tente novamente.\")\n",
        "        tentativas -= 1\n",
        "\n",
        "if tentativas == 0:\n",
        "    print(\"Cartão cancelado devido a múltiplas tentativas incorretas.\")\n"
      ],
      "metadata": {
        "colab": {
          "base_uri": "https://localhost:8080/"
        },
        "id": "44WfyE8WOMLQ",
        "outputId": "c0576a71-2a49-4d08-84a2-485ba9674469"
      },
      "execution_count": null,
      "outputs": [
        {
          "output_type": "stream",
          "name": "stdout",
          "text": [
            "Digite o código da conta: 122345\n",
            "Digite a senha: 12\n",
            "Código da conta ou senha incorretos. Tente novamente.\n",
            "Digite o código da conta: 122345\n",
            "Digite a senha: 1234\n",
            "Acesso concedido. Bem-vindo à sua conta.\n",
            "\n",
            "Opções:\n",
            "1. Saque\n",
            "2. Depósito\n",
            "3. Ver saldo\n",
            "4. Sair\n",
            "Escolha uma opção (1/2/3/4): 1\n",
            "Digite o valor do saque: 10\n",
            "Saque de R$10.0 realizado com sucesso.\n",
            "\n",
            "Opções:\n",
            "1. Saque\n",
            "2. Depósito\n",
            "3. Ver saldo\n",
            "4. Sair\n",
            "Escolha uma opção (1/2/3/4): 2\n",
            "Digite o valor do depósito: 200\n",
            "Depósito de R$200.0 realizado com sucesso.\n",
            "\n",
            "Opções:\n",
            "1. Saque\n",
            "2. Depósito\n",
            "3. Ver saldo\n",
            "4. Sair\n",
            "Escolha uma opção (1/2/3/4): 4\n",
            "Obrigado por usar nosso serviço. Volte sempre!\n",
            "Digite o código da conta: 1234\n",
            "Digite a senha: 1234\n",
            "Código da conta ou senha incorretos. Tente novamente.\n",
            "Digite o código da conta: 122345\n",
            "Digite a senha: 1234\n",
            "Acesso concedido. Bem-vindo à sua conta.\n",
            "\n",
            "Opções:\n",
            "1. Saque\n",
            "2. Depósito\n",
            "3. Ver saldo\n",
            "4. Sair\n",
            "Escolha uma opção (1/2/3/4): 4\n",
            "Obrigado por usar nosso serviço. Volte sempre!\n"
          ]
        }
      ]
    },
    {
      "cell_type": "markdown",
      "source": [
        "6.Escreva um algoritmo que leia valores inteiros e encontre o maior e o menor deles. Termine a leitura se o usuário digitar zero (0);"
      ],
      "metadata": {
        "id": "8RJYww3nOGjX"
      }
    },
    {
      "cell_type": "code",
      "source": [
        "maior = menor = None\n",
        "\n",
        "while True:\n",
        "    valor = int(input(\"Digite um valor inteiro (ou 0 para sair): \"))\n",
        "\n",
        "    if valor == 0:\n",
        "        if maior is None:\n",
        "            print(\"Nenhum valor foi inserido.\")\n",
        "        else:\n",
        "            print(f\"O maior valor inserido foi: {maior}\")\n",
        "            print(f\"O menor valor inserido foi: {menor}\")\n",
        "        break\n",
        "\n",
        "    if maior is None or valor > maior:\n",
        "        maior = valor\n",
        "\n",
        "    if menor is None or valor < menor:\n",
        "        menor = valor\n"
      ],
      "metadata": {
        "id": "LqmAMgE5OLdX"
      },
      "execution_count": null,
      "outputs": []
    }
  ]
}